{
 "cells": [
  {
   "cell_type": "code",
   "execution_count": 1,
   "metadata": {
    "collapsed": true
   },
   "outputs": [],
   "source": [
    "import pandas as pd\n",
    "import numpy as np\n",
    "from sklearn.ensemble import GradientBoostingClassifier"
   ]
  },
  {
   "cell_type": "code",
   "execution_count": 7,
   "metadata": {
    "collapsed": false
   },
   "outputs": [],
   "source": [
    "train_set = pd.read_csv(\"train_3035.csv\")\n",
    "train_label = train_set[\"label\"].copy()\n",
    "train_label = pd.DataFrame(train_label)\n",
    "del train_set[\"label\"]\n",
    "#del train_set[\"conversionTime\"]\n",
    "#print train_set"
   ]
  },
  {
   "cell_type": "code",
   "execution_count": 3,
   "metadata": {
    "collapsed": false
   },
   "outputs": [],
   "source": [
    "test_set = pd.read_csv(\"test_3033.csv\")\n",
    "instanceID = test_set[\"instanceID\"].copy()\n",
    "instanceID = pd.DataFrame(instanceID)\n",
    "del test_set[\"instanceID\"]\n",
    "del test_set[\"label\"]"
   ]
  },
  {
   "cell_type": "code",
   "execution_count": 12,
   "metadata": {
    "collapsed": false
   },
   "outputs": [
    {
     "name": "stderr",
     "output_type": "stream",
     "text": [
      "/Users/zhaozhuocheng/anaconda/lib/python2.7/site-packages/sklearn/utils/validation.py:526: DataConversionWarning: A column-vector y was passed when a 1d array was expected. Please change the shape of y to (n_samples, ), for example using ravel().\n",
      "  y = column_or_1d(y, warn=True)\n"
     ]
    }
   ],
   "source": [
    "gdbt = GradientBoostingClassifier()\n",
    "gdbt = gdbt.fit(train_set, train_label)"
   ]
  },
  {
   "cell_type": "code",
   "execution_count": 13,
   "metadata": {
    "collapsed": false
   },
   "outputs": [],
   "source": [
    "gbdt = gdbt.predict_proba(test_set)\n",
    "gbdt = pd.DataFrame(gbdt)"
   ]
  },
  {
   "cell_type": "code",
   "execution_count": 14,
   "metadata": {
    "collapsed": false
   },
   "outputs": [],
   "source": [
    "gbdt.columns = [\"a\", \"prob\"]\n",
    "#del gbdt[\"a\"]"
   ]
  },
  {
   "cell_type": "code",
   "execution_count": 15,
   "metadata": {
    "collapsed": false
   },
   "outputs": [],
   "source": [
    "ans = pd.concat([instanceID, gbdt[\"prob\"]], axis = 1)"
   ]
  },
  {
   "cell_type": "code",
   "execution_count": 16,
   "metadata": {
    "collapsed": false
   },
   "outputs": [],
   "source": [
    "ans.columns = [\"instanceID\", \"prob\"]"
   ]
  },
  {
   "cell_type": "code",
   "execution_count": 17,
   "metadata": {
    "collapsed": false
   },
   "outputs": [
    {
     "name": "stdout",
     "output_type": "stream",
     "text": [
      "        instanceID      prob\n",
      "0                1  0.004544\n",
      "1                2  0.003446\n",
      "2                3  0.009229\n",
      "3                4  0.003765\n",
      "4                5  0.002613\n",
      "5                6  0.013868\n",
      "6                7  0.020561\n",
      "7                8  0.008599\n",
      "8                9  0.002471\n",
      "9               10  0.011520\n",
      "10              11  0.011936\n",
      "11              12  0.009269\n",
      "12              13  0.003168\n",
      "13              14  0.009980\n",
      "14              15  0.029469\n",
      "15              16  0.010871\n",
      "16              17  0.013058\n",
      "17              18  0.003667\n",
      "18              19  0.016549\n",
      "19              20  0.010752\n",
      "20              21  0.010841\n",
      "21              22  0.007626\n",
      "22              23  0.027474\n",
      "23              24  0.010457\n",
      "24              25  0.004590\n",
      "25              26  0.008667\n",
      "26              27  0.001893\n",
      "27              28  0.005121\n",
      "28              29  0.023493\n",
      "29              30  0.006600\n",
      "...            ...       ...\n",
      "338459      338460  0.010011\n",
      "338460      338461  0.008223\n",
      "338461      338462  0.028023\n",
      "338462      338463  0.009179\n",
      "338463      338464  0.021493\n",
      "338464      338465  0.018077\n",
      "338465      338466  0.010195\n",
      "338466      338467  0.013786\n",
      "338467      338468  0.019852\n",
      "338468      338469  0.034529\n",
      "338469      338470  0.034528\n",
      "338470      338471  0.016168\n",
      "338471      338472  0.019581\n",
      "338472      338473  0.018116\n",
      "338473      338474  0.017705\n",
      "338474      338475  0.044736\n",
      "338475      338476  0.019915\n",
      "338476      338477  0.005613\n",
      "338477      338478  0.014354\n",
      "338478      338479  0.164062\n",
      "338479      338480  0.065330\n",
      "338480      338481  0.020600\n",
      "338481      338482  0.025627\n",
      "338482      338483  0.028752\n",
      "338483      338484  0.027415\n",
      "338484      338485  0.006178\n",
      "338485      338486  0.010369\n",
      "338486      338487  0.027303\n",
      "338487      338488  0.005586\n",
      "338488      338489  0.005678\n",
      "\n",
      "[338489 rows x 2 columns]\n"
     ]
    }
   ],
   "source": [
    "print ans"
   ]
  },
  {
   "cell_type": "code",
   "execution_count": 18,
   "metadata": {
    "collapsed": false
   },
   "outputs": [],
   "source": [
    "ans.to_csv(\"submission.csv\", index = False)"
   ]
  },
  {
   "cell_type": "code",
   "execution_count": null,
   "metadata": {
    "collapsed": true
   },
   "outputs": [],
   "source": []
  }
 ],
 "metadata": {
  "kernelspec": {
   "display_name": "Python 2",
   "language": "python",
   "name": "python2"
  },
  "language_info": {
   "codemirror_mode": {
    "name": "ipython",
    "version": 2
   },
   "file_extension": ".py",
   "mimetype": "text/x-python",
   "name": "python",
   "nbconvert_exporter": "python",
   "pygments_lexer": "ipython2",
   "version": "2.7.13"
  }
 },
 "nbformat": 4,
 "nbformat_minor": 2
}
